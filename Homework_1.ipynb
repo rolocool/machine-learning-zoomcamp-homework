{
  "nbformat": 4,
  "nbformat_minor": 0,
  "metadata": {
    "colab": {
      "provenance": []
    },
    "kernelspec": {
      "name": "python3",
      "display_name": "Python 3"
    },
    "language_info": {
      "name": "python"
    }
  },
  "cells": [
    {
      "cell_type": "code",
      "source": [
        "#Question 1. Pandas version\n",
        "import pandas as pd\n",
        "\n",
        "# To read the data\n",
        "df = pd.read_csv('car_fuel_efficiency.csv')"
      ],
      "metadata": {
        "id": "MvZ_22x7E8eY"
      },
      "execution_count": 3,
      "outputs": []
    },
    {
      "cell_type": "code",
      "source": [
        "#Question 2. Records count\n",
        "len(df)"
      ],
      "metadata": {
        "colab": {
          "base_uri": "https://localhost:8080/"
        },
        "id": "xzBVjDg9FHgX",
        "outputId": "a4abb075-7ab6-4254-8193-6bbdce93c2d5"
      },
      "execution_count": 4,
      "outputs": [
        {
          "output_type": "execute_result",
          "data": {
            "text/plain": [
              "9704"
            ]
          },
          "metadata": {},
          "execution_count": 4
        }
      ]
    },
    {
      "cell_type": "code",
      "source": [
        "#Question 3. Fuel types\n",
        "df['fuel_type'].nunique()"
      ],
      "metadata": {
        "colab": {
          "base_uri": "https://localhost:8080/"
        },
        "id": "8G0gFD7ZFOKh",
        "outputId": "7d97d8f3-6960-4a7e-9ea1-0c6be8bf3797"
      },
      "execution_count": 9,
      "outputs": [
        {
          "output_type": "execute_result",
          "data": {
            "text/plain": [
              "2"
            ]
          },
          "metadata": {},
          "execution_count": 9
        }
      ]
    },
    {
      "cell_type": "code",
      "source": [
        "#Question 4. Missing values\n",
        "print(\"Columns with missing values:\")\n",
        "missing_cols = df.isnull().sum()\n",
        "print(missing_cols[missing_cols > 0])\n",
        "print(\"Number of columns with missing values:\", (missing_cols > 0).sum())\n",
        "print()"
      ],
      "metadata": {
        "colab": {
          "base_uri": "https://localhost:8080/"
        },
        "id": "1LvGElJXFSDP",
        "outputId": "06ed3d37-5955-41c6-c1db-d1a505f95204"
      },
      "execution_count": 10,
      "outputs": [
        {
          "output_type": "stream",
          "name": "stdout",
          "text": [
            "Columns with missing values:\n",
            "num_cylinders    482\n",
            "horsepower       708\n",
            "acceleration     930\n",
            "num_doors        502\n",
            "dtype: int64\n",
            "Number of columns with missing values: 4\n",
            "\n"
          ]
        }
      ]
    },
    {
      "cell_type": "code",
      "source": [
        "#Question 5. Max fuel efficiency\n",
        "max_fuel_eff = df[df['origin'] == 'Asia']['fuel_efficiency_mpg'].max()\n",
        "print(\"Max fuel efficiency from Asia:\", max_fuel_eff)\n",
        "print()"
      ],
      "metadata": {
        "colab": {
          "base_uri": "https://localhost:8080/"
        },
        "id": "nXllPs_iFWNz",
        "outputId": "a0d04ce8-cfd5-4d47-cc17-cd8bc69a6f9c"
      },
      "execution_count": 20,
      "outputs": [
        {
          "output_type": "stream",
          "name": "stdout",
          "text": [
            "Max fuel efficiency from Asia: 23.759122836520497\n",
            "\n"
          ]
        }
      ]
    },
    {
      "cell_type": "code",
      "source": [
        "#Question 6. Median value of horsepower\n",
        "\n",
        "median_original = df['horsepower'].median()\n",
        "print(\"Original median horsepower:\", median_original)\n",
        "\n",
        "mode_hp = df['horsepower'].mode()[0]\n",
        "print(\"Mode (most frequent horsepower):\", mode_hp)\n",
        "\n",
        "df['horsepower_filled'] = df['horsepower'].fillna(mode_hp)\n",
        "\n",
        "median_filled = df['horsepower_filled'].median()\n",
        "print(\"Median after filling with mode:\", median_filled)\n",
        "\n",
        "if median_filled > median_original:\n",
        "    print(\"Has it changed? Yes, it increased\")\n",
        "elif median_filled < median_original:\n",
        "    print(\"Has it changed? Yes, it decreased\")\n",
        "else:\n",
        "    print(\"Has it changed? No\")\n",
        "print()"
      ],
      "metadata": {
        "colab": {
          "base_uri": "https://localhost:8080/"
        },
        "id": "PAUxBaPEFWP7",
        "outputId": "e4fa26fb-f2e5-4477-976e-e264a9954e1a"
      },
      "execution_count": 19,
      "outputs": [
        {
          "output_type": "stream",
          "name": "stdout",
          "text": [
            "Original median horsepower: 149.0\n",
            "Mode (most frequent horsepower): 152.0\n",
            "Median after filling with mode: 152.0\n",
            "Has it changed? Yes, it increased\n",
            "\n"
          ]
        }
      ]
    },
    {
      "cell_type": "code",
      "source": [
        "#Question 7. Sum of weights\n",
        "import numpy as np\n",
        "\n",
        "df = pd.read_csv('car_fuel_efficiency.csv')\n",
        "X = df[df['origin'] == 'Asia'][['vehicle_weight', 'model_year']].head(7).values\n",
        "y = np.array([1100, 1300, 800, 900, 1000, 1100, 1200])\n",
        "w = np.linalg.inv(X.T @ X) @ X.T @ y\n",
        "\n",
        "print(w.sum())"
      ],
      "metadata": {
        "colab": {
          "base_uri": "https://localhost:8080/"
        },
        "id": "dembdJTxGqTn",
        "outputId": "5ea1c364-e996-4193-ab9f-6a7a7d00ffd0"
      },
      "execution_count": 18,
      "outputs": [
        {
          "output_type": "stream",
          "name": "stdout",
          "text": [
            "0.5187709081074016\n"
          ]
        }
      ]
    }
  ]
}